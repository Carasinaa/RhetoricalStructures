{
  "nbformat": 4,
  "nbformat_minor": 0,
  "metadata": {
    "colab": {
      "provenance": []
    },
    "kernelspec": {
      "name": "python3",
      "display_name": "Python 3"
    },
    "language_info": {
      "name": "python"
    },
    "widgets": {
      "application/vnd.jupyter.widget-state+json": {
        "38c28d6f6b694327b39dc8ed46a13bc4": {
          "model_module": "@jupyter-widgets/controls",
          "model_name": "HBoxModel",
          "model_module_version": "1.5.0",
          "state": {
            "_dom_classes": [],
            "_model_module": "@jupyter-widgets/controls",
            "_model_module_version": "1.5.0",
            "_model_name": "HBoxModel",
            "_view_count": null,
            "_view_module": "@jupyter-widgets/controls",
            "_view_module_version": "1.5.0",
            "_view_name": "HBoxView",
            "box_style": "",
            "children": [
              "IPY_MODEL_dcb35f37bbf048d0ac900a904baf6e33",
              "IPY_MODEL_87fefbdf1573410f8ddcc69897175e8e",
              "IPY_MODEL_3c4cad40512549cda86865cca80c985d"
            ],
            "layout": "IPY_MODEL_272fcdab6f1b4bec8ff9dcfcafb19471"
          }
        },
        "dcb35f37bbf048d0ac900a904baf6e33": {
          "model_module": "@jupyter-widgets/controls",
          "model_name": "HTMLModel",
          "model_module_version": "1.5.0",
          "state": {
            "_dom_classes": [],
            "_model_module": "@jupyter-widgets/controls",
            "_model_module_version": "1.5.0",
            "_model_name": "HTMLModel",
            "_view_count": null,
            "_view_module": "@jupyter-widgets/controls",
            "_view_module_version": "1.5.0",
            "_view_name": "HTMLView",
            "description": "",
            "description_tooltip": null,
            "layout": "IPY_MODEL_bb1e3d567dca40eb8304e4c6f527b7ec",
            "placeholder": "​",
            "style": "IPY_MODEL_dd5e2fb144c74050b71f62c513b4a24e",
            "value": "100%"
          }
        },
        "87fefbdf1573410f8ddcc69897175e8e": {
          "model_module": "@jupyter-widgets/controls",
          "model_name": "FloatProgressModel",
          "model_module_version": "1.5.0",
          "state": {
            "_dom_classes": [],
            "_model_module": "@jupyter-widgets/controls",
            "_model_module_version": "1.5.0",
            "_model_name": "FloatProgressModel",
            "_view_count": null,
            "_view_module": "@jupyter-widgets/controls",
            "_view_module_version": "1.5.0",
            "_view_name": "ProgressView",
            "bar_style": "success",
            "description": "",
            "description_tooltip": null,
            "layout": "IPY_MODEL_2aac725ac14e4658b45fac1fbd312cf8",
            "max": 50,
            "min": 0,
            "orientation": "horizontal",
            "style": "IPY_MODEL_f8d4ceece15149a98a69498bd133bc27",
            "value": 50
          }
        },
        "3c4cad40512549cda86865cca80c985d": {
          "model_module": "@jupyter-widgets/controls",
          "model_name": "HTMLModel",
          "model_module_version": "1.5.0",
          "state": {
            "_dom_classes": [],
            "_model_module": "@jupyter-widgets/controls",
            "_model_module_version": "1.5.0",
            "_model_name": "HTMLModel",
            "_view_count": null,
            "_view_module": "@jupyter-widgets/controls",
            "_view_module_version": "1.5.0",
            "_view_name": "HTMLView",
            "description": "",
            "description_tooltip": null,
            "layout": "IPY_MODEL_a6925293d0d948b784d832c43c299c6a",
            "placeholder": "​",
            "style": "IPY_MODEL_895c8732b27f4b30bf2092f84b65552e",
            "value": " 50/50 [01:58&lt;00:00,  2.43s/it]"
          }
        },
        "272fcdab6f1b4bec8ff9dcfcafb19471": {
          "model_module": "@jupyter-widgets/base",
          "model_name": "LayoutModel",
          "model_module_version": "1.2.0",
          "state": {
            "_model_module": "@jupyter-widgets/base",
            "_model_module_version": "1.2.0",
            "_model_name": "LayoutModel",
            "_view_count": null,
            "_view_module": "@jupyter-widgets/base",
            "_view_module_version": "1.2.0",
            "_view_name": "LayoutView",
            "align_content": null,
            "align_items": null,
            "align_self": null,
            "border": null,
            "bottom": null,
            "display": null,
            "flex": null,
            "flex_flow": null,
            "grid_area": null,
            "grid_auto_columns": null,
            "grid_auto_flow": null,
            "grid_auto_rows": null,
            "grid_column": null,
            "grid_gap": null,
            "grid_row": null,
            "grid_template_areas": null,
            "grid_template_columns": null,
            "grid_template_rows": null,
            "height": null,
            "justify_content": null,
            "justify_items": null,
            "left": null,
            "margin": null,
            "max_height": null,
            "max_width": null,
            "min_height": null,
            "min_width": null,
            "object_fit": null,
            "object_position": null,
            "order": null,
            "overflow": null,
            "overflow_x": null,
            "overflow_y": null,
            "padding": null,
            "right": null,
            "top": null,
            "visibility": null,
            "width": null
          }
        },
        "bb1e3d567dca40eb8304e4c6f527b7ec": {
          "model_module": "@jupyter-widgets/base",
          "model_name": "LayoutModel",
          "model_module_version": "1.2.0",
          "state": {
            "_model_module": "@jupyter-widgets/base",
            "_model_module_version": "1.2.0",
            "_model_name": "LayoutModel",
            "_view_count": null,
            "_view_module": "@jupyter-widgets/base",
            "_view_module_version": "1.2.0",
            "_view_name": "LayoutView",
            "align_content": null,
            "align_items": null,
            "align_self": null,
            "border": null,
            "bottom": null,
            "display": null,
            "flex": null,
            "flex_flow": null,
            "grid_area": null,
            "grid_auto_columns": null,
            "grid_auto_flow": null,
            "grid_auto_rows": null,
            "grid_column": null,
            "grid_gap": null,
            "grid_row": null,
            "grid_template_areas": null,
            "grid_template_columns": null,
            "grid_template_rows": null,
            "height": null,
            "justify_content": null,
            "justify_items": null,
            "left": null,
            "margin": null,
            "max_height": null,
            "max_width": null,
            "min_height": null,
            "min_width": null,
            "object_fit": null,
            "object_position": null,
            "order": null,
            "overflow": null,
            "overflow_x": null,
            "overflow_y": null,
            "padding": null,
            "right": null,
            "top": null,
            "visibility": null,
            "width": null
          }
        },
        "dd5e2fb144c74050b71f62c513b4a24e": {
          "model_module": "@jupyter-widgets/controls",
          "model_name": "DescriptionStyleModel",
          "model_module_version": "1.5.0",
          "state": {
            "_model_module": "@jupyter-widgets/controls",
            "_model_module_version": "1.5.0",
            "_model_name": "DescriptionStyleModel",
            "_view_count": null,
            "_view_module": "@jupyter-widgets/base",
            "_view_module_version": "1.2.0",
            "_view_name": "StyleView",
            "description_width": ""
          }
        },
        "2aac725ac14e4658b45fac1fbd312cf8": {
          "model_module": "@jupyter-widgets/base",
          "model_name": "LayoutModel",
          "model_module_version": "1.2.0",
          "state": {
            "_model_module": "@jupyter-widgets/base",
            "_model_module_version": "1.2.0",
            "_model_name": "LayoutModel",
            "_view_count": null,
            "_view_module": "@jupyter-widgets/base",
            "_view_module_version": "1.2.0",
            "_view_name": "LayoutView",
            "align_content": null,
            "align_items": null,
            "align_self": null,
            "border": null,
            "bottom": null,
            "display": null,
            "flex": null,
            "flex_flow": null,
            "grid_area": null,
            "grid_auto_columns": null,
            "grid_auto_flow": null,
            "grid_auto_rows": null,
            "grid_column": null,
            "grid_gap": null,
            "grid_row": null,
            "grid_template_areas": null,
            "grid_template_columns": null,
            "grid_template_rows": null,
            "height": null,
            "justify_content": null,
            "justify_items": null,
            "left": null,
            "margin": null,
            "max_height": null,
            "max_width": null,
            "min_height": null,
            "min_width": null,
            "object_fit": null,
            "object_position": null,
            "order": null,
            "overflow": null,
            "overflow_x": null,
            "overflow_y": null,
            "padding": null,
            "right": null,
            "top": null,
            "visibility": null,
            "width": null
          }
        },
        "f8d4ceece15149a98a69498bd133bc27": {
          "model_module": "@jupyter-widgets/controls",
          "model_name": "ProgressStyleModel",
          "model_module_version": "1.5.0",
          "state": {
            "_model_module": "@jupyter-widgets/controls",
            "_model_module_version": "1.5.0",
            "_model_name": "ProgressStyleModel",
            "_view_count": null,
            "_view_module": "@jupyter-widgets/base",
            "_view_module_version": "1.2.0",
            "_view_name": "StyleView",
            "bar_color": null,
            "description_width": ""
          }
        },
        "a6925293d0d948b784d832c43c299c6a": {
          "model_module": "@jupyter-widgets/base",
          "model_name": "LayoutModel",
          "model_module_version": "1.2.0",
          "state": {
            "_model_module": "@jupyter-widgets/base",
            "_model_module_version": "1.2.0",
            "_model_name": "LayoutModel",
            "_view_count": null,
            "_view_module": "@jupyter-widgets/base",
            "_view_module_version": "1.2.0",
            "_view_name": "LayoutView",
            "align_content": null,
            "align_items": null,
            "align_self": null,
            "border": null,
            "bottom": null,
            "display": null,
            "flex": null,
            "flex_flow": null,
            "grid_area": null,
            "grid_auto_columns": null,
            "grid_auto_flow": null,
            "grid_auto_rows": null,
            "grid_column": null,
            "grid_gap": null,
            "grid_row": null,
            "grid_template_areas": null,
            "grid_template_columns": null,
            "grid_template_rows": null,
            "height": null,
            "justify_content": null,
            "justify_items": null,
            "left": null,
            "margin": null,
            "max_height": null,
            "max_width": null,
            "min_height": null,
            "min_width": null,
            "object_fit": null,
            "object_position": null,
            "order": null,
            "overflow": null,
            "overflow_x": null,
            "overflow_y": null,
            "padding": null,
            "right": null,
            "top": null,
            "visibility": null,
            "width": null
          }
        },
        "895c8732b27f4b30bf2092f84b65552e": {
          "model_module": "@jupyter-widgets/controls",
          "model_name": "DescriptionStyleModel",
          "model_module_version": "1.5.0",
          "state": {
            "_model_module": "@jupyter-widgets/controls",
            "_model_module_version": "1.5.0",
            "_model_name": "DescriptionStyleModel",
            "_view_count": null,
            "_view_module": "@jupyter-widgets/base",
            "_view_module_version": "1.2.0",
            "_view_name": "StyleView",
            "description_width": ""
          }
        },
        "22d316a7513149a6b8baa015b2af6ff2": {
          "model_module": "@jupyter-widgets/controls",
          "model_name": "HBoxModel",
          "model_module_version": "1.5.0",
          "state": {
            "_dom_classes": [],
            "_model_module": "@jupyter-widgets/controls",
            "_model_module_version": "1.5.0",
            "_model_name": "HBoxModel",
            "_view_count": null,
            "_view_module": "@jupyter-widgets/controls",
            "_view_module_version": "1.5.0",
            "_view_name": "HBoxView",
            "box_style": "",
            "children": [
              "IPY_MODEL_0e6764261d2f4e18a93ac5c15ca1072d",
              "IPY_MODEL_d6d044e58b7248c7aca05d9ae2b5d52e",
              "IPY_MODEL_b650303d5a4c4974aadeeb1f60bf718e"
            ],
            "layout": "IPY_MODEL_8ec252a95d3d464bbf8f44d14d5877fd"
          }
        },
        "0e6764261d2f4e18a93ac5c15ca1072d": {
          "model_module": "@jupyter-widgets/controls",
          "model_name": "HTMLModel",
          "model_module_version": "1.5.0",
          "state": {
            "_dom_classes": [],
            "_model_module": "@jupyter-widgets/controls",
            "_model_module_version": "1.5.0",
            "_model_name": "HTMLModel",
            "_view_count": null,
            "_view_module": "@jupyter-widgets/controls",
            "_view_module_version": "1.5.0",
            "_view_name": "HTMLView",
            "description": "",
            "description_tooltip": null,
            "layout": "IPY_MODEL_8e8755e23e4b42d28b23691b8b2f2756",
            "placeholder": "​",
            "style": "IPY_MODEL_417a51b3045e40abb50b7b6988332903",
            "value": "100%"
          }
        },
        "d6d044e58b7248c7aca05d9ae2b5d52e": {
          "model_module": "@jupyter-widgets/controls",
          "model_name": "FloatProgressModel",
          "model_module_version": "1.5.0",
          "state": {
            "_dom_classes": [],
            "_model_module": "@jupyter-widgets/controls",
            "_model_module_version": "1.5.0",
            "_model_name": "FloatProgressModel",
            "_view_count": null,
            "_view_module": "@jupyter-widgets/controls",
            "_view_module_version": "1.5.0",
            "_view_name": "ProgressView",
            "bar_style": "success",
            "description": "",
            "description_tooltip": null,
            "layout": "IPY_MODEL_88f1d2c47af34e6ab8106c8aaab91e9e",
            "max": 50,
            "min": 0,
            "orientation": "horizontal",
            "style": "IPY_MODEL_662cd408d2f84be3b81e64d731b32fab",
            "value": 50
          }
        },
        "b650303d5a4c4974aadeeb1f60bf718e": {
          "model_module": "@jupyter-widgets/controls",
          "model_name": "HTMLModel",
          "model_module_version": "1.5.0",
          "state": {
            "_dom_classes": [],
            "_model_module": "@jupyter-widgets/controls",
            "_model_module_version": "1.5.0",
            "_model_name": "HTMLModel",
            "_view_count": null,
            "_view_module": "@jupyter-widgets/controls",
            "_view_module_version": "1.5.0",
            "_view_name": "HTMLView",
            "description": "",
            "description_tooltip": null,
            "layout": "IPY_MODEL_5fcc5423e19f44b8bf32067b860b29fa",
            "placeholder": "​",
            "style": "IPY_MODEL_017d0907552c4ec680adb52650babef5",
            "value": " 50/50 [01:41&lt;00:00,  1.11s/it]"
          }
        },
        "8ec252a95d3d464bbf8f44d14d5877fd": {
          "model_module": "@jupyter-widgets/base",
          "model_name": "LayoutModel",
          "model_module_version": "1.2.0",
          "state": {
            "_model_module": "@jupyter-widgets/base",
            "_model_module_version": "1.2.0",
            "_model_name": "LayoutModel",
            "_view_count": null,
            "_view_module": "@jupyter-widgets/base",
            "_view_module_version": "1.2.0",
            "_view_name": "LayoutView",
            "align_content": null,
            "align_items": null,
            "align_self": null,
            "border": null,
            "bottom": null,
            "display": null,
            "flex": null,
            "flex_flow": null,
            "grid_area": null,
            "grid_auto_columns": null,
            "grid_auto_flow": null,
            "grid_auto_rows": null,
            "grid_column": null,
            "grid_gap": null,
            "grid_row": null,
            "grid_template_areas": null,
            "grid_template_columns": null,
            "grid_template_rows": null,
            "height": null,
            "justify_content": null,
            "justify_items": null,
            "left": null,
            "margin": null,
            "max_height": null,
            "max_width": null,
            "min_height": null,
            "min_width": null,
            "object_fit": null,
            "object_position": null,
            "order": null,
            "overflow": null,
            "overflow_x": null,
            "overflow_y": null,
            "padding": null,
            "right": null,
            "top": null,
            "visibility": null,
            "width": null
          }
        },
        "8e8755e23e4b42d28b23691b8b2f2756": {
          "model_module": "@jupyter-widgets/base",
          "model_name": "LayoutModel",
          "model_module_version": "1.2.0",
          "state": {
            "_model_module": "@jupyter-widgets/base",
            "_model_module_version": "1.2.0",
            "_model_name": "LayoutModel",
            "_view_count": null,
            "_view_module": "@jupyter-widgets/base",
            "_view_module_version": "1.2.0",
            "_view_name": "LayoutView",
            "align_content": null,
            "align_items": null,
            "align_self": null,
            "border": null,
            "bottom": null,
            "display": null,
            "flex": null,
            "flex_flow": null,
            "grid_area": null,
            "grid_auto_columns": null,
            "grid_auto_flow": null,
            "grid_auto_rows": null,
            "grid_column": null,
            "grid_gap": null,
            "grid_row": null,
            "grid_template_areas": null,
            "grid_template_columns": null,
            "grid_template_rows": null,
            "height": null,
            "justify_content": null,
            "justify_items": null,
            "left": null,
            "margin": null,
            "max_height": null,
            "max_width": null,
            "min_height": null,
            "min_width": null,
            "object_fit": null,
            "object_position": null,
            "order": null,
            "overflow": null,
            "overflow_x": null,
            "overflow_y": null,
            "padding": null,
            "right": null,
            "top": null,
            "visibility": null,
            "width": null
          }
        },
        "417a51b3045e40abb50b7b6988332903": {
          "model_module": "@jupyter-widgets/controls",
          "model_name": "DescriptionStyleModel",
          "model_module_version": "1.5.0",
          "state": {
            "_model_module": "@jupyter-widgets/controls",
            "_model_module_version": "1.5.0",
            "_model_name": "DescriptionStyleModel",
            "_view_count": null,
            "_view_module": "@jupyter-widgets/base",
            "_view_module_version": "1.2.0",
            "_view_name": "StyleView",
            "description_width": ""
          }
        },
        "88f1d2c47af34e6ab8106c8aaab91e9e": {
          "model_module": "@jupyter-widgets/base",
          "model_name": "LayoutModel",
          "model_module_version": "1.2.0",
          "state": {
            "_model_module": "@jupyter-widgets/base",
            "_model_module_version": "1.2.0",
            "_model_name": "LayoutModel",
            "_view_count": null,
            "_view_module": "@jupyter-widgets/base",
            "_view_module_version": "1.2.0",
            "_view_name": "LayoutView",
            "align_content": null,
            "align_items": null,
            "align_self": null,
            "border": null,
            "bottom": null,
            "display": null,
            "flex": null,
            "flex_flow": null,
            "grid_area": null,
            "grid_auto_columns": null,
            "grid_auto_flow": null,
            "grid_auto_rows": null,
            "grid_column": null,
            "grid_gap": null,
            "grid_row": null,
            "grid_template_areas": null,
            "grid_template_columns": null,
            "grid_template_rows": null,
            "height": null,
            "justify_content": null,
            "justify_items": null,
            "left": null,
            "margin": null,
            "max_height": null,
            "max_width": null,
            "min_height": null,
            "min_width": null,
            "object_fit": null,
            "object_position": null,
            "order": null,
            "overflow": null,
            "overflow_x": null,
            "overflow_y": null,
            "padding": null,
            "right": null,
            "top": null,
            "visibility": null,
            "width": null
          }
        },
        "662cd408d2f84be3b81e64d731b32fab": {
          "model_module": "@jupyter-widgets/controls",
          "model_name": "ProgressStyleModel",
          "model_module_version": "1.5.0",
          "state": {
            "_model_module": "@jupyter-widgets/controls",
            "_model_module_version": "1.5.0",
            "_model_name": "ProgressStyleModel",
            "_view_count": null,
            "_view_module": "@jupyter-widgets/base",
            "_view_module_version": "1.2.0",
            "_view_name": "StyleView",
            "bar_color": null,
            "description_width": ""
          }
        },
        "5fcc5423e19f44b8bf32067b860b29fa": {
          "model_module": "@jupyter-widgets/base",
          "model_name": "LayoutModel",
          "model_module_version": "1.2.0",
          "state": {
            "_model_module": "@jupyter-widgets/base",
            "_model_module_version": "1.2.0",
            "_model_name": "LayoutModel",
            "_view_count": null,
            "_view_module": "@jupyter-widgets/base",
            "_view_module_version": "1.2.0",
            "_view_name": "LayoutView",
            "align_content": null,
            "align_items": null,
            "align_self": null,
            "border": null,
            "bottom": null,
            "display": null,
            "flex": null,
            "flex_flow": null,
            "grid_area": null,
            "grid_auto_columns": null,
            "grid_auto_flow": null,
            "grid_auto_rows": null,
            "grid_column": null,
            "grid_gap": null,
            "grid_row": null,
            "grid_template_areas": null,
            "grid_template_columns": null,
            "grid_template_rows": null,
            "height": null,
            "justify_content": null,
            "justify_items": null,
            "left": null,
            "margin": null,
            "max_height": null,
            "max_width": null,
            "min_height": null,
            "min_width": null,
            "object_fit": null,
            "object_position": null,
            "order": null,
            "overflow": null,
            "overflow_x": null,
            "overflow_y": null,
            "padding": null,
            "right": null,
            "top": null,
            "visibility": null,
            "width": null
          }
        },
        "017d0907552c4ec680adb52650babef5": {
          "model_module": "@jupyter-widgets/controls",
          "model_name": "DescriptionStyleModel",
          "model_module_version": "1.5.0",
          "state": {
            "_model_module": "@jupyter-widgets/controls",
            "_model_module_version": "1.5.0",
            "_model_name": "DescriptionStyleModel",
            "_view_count": null,
            "_view_module": "@jupyter-widgets/base",
            "_view_module_version": "1.2.0",
            "_view_name": "StyleView",
            "description_width": ""
          }
        },
        "2337f29ed81a48688c85e23e5cb3f840": {
          "model_module": "@jupyter-widgets/controls",
          "model_name": "HBoxModel",
          "model_module_version": "1.5.0",
          "state": {
            "_dom_classes": [],
            "_model_module": "@jupyter-widgets/controls",
            "_model_module_version": "1.5.0",
            "_model_name": "HBoxModel",
            "_view_count": null,
            "_view_module": "@jupyter-widgets/controls",
            "_view_module_version": "1.5.0",
            "_view_name": "HBoxView",
            "box_style": "",
            "children": [
              "IPY_MODEL_741cc48508374efa923915ec806aec2d",
              "IPY_MODEL_75303b64f7d34ea5ba3431aead4e883f",
              "IPY_MODEL_4c158cb320e94516b3e5740bfdd9d5f6"
            ],
            "layout": "IPY_MODEL_dfa9cc29d3b443fdbe284de3744e322e"
          }
        },
        "741cc48508374efa923915ec806aec2d": {
          "model_module": "@jupyter-widgets/controls",
          "model_name": "HTMLModel",
          "model_module_version": "1.5.0",
          "state": {
            "_dom_classes": [],
            "_model_module": "@jupyter-widgets/controls",
            "_model_module_version": "1.5.0",
            "_model_name": "HTMLModel",
            "_view_count": null,
            "_view_module": "@jupyter-widgets/controls",
            "_view_module_version": "1.5.0",
            "_view_name": "HTMLView",
            "description": "",
            "description_tooltip": null,
            "layout": "IPY_MODEL_a777cf9e5af24ab5a3bd0cabc95b8aa0",
            "placeholder": "​",
            "style": "IPY_MODEL_830c0dbd9d5d4561a401af00e0ca180e",
            "value": "100%"
          }
        },
        "75303b64f7d34ea5ba3431aead4e883f": {
          "model_module": "@jupyter-widgets/controls",
          "model_name": "FloatProgressModel",
          "model_module_version": "1.5.0",
          "state": {
            "_dom_classes": [],
            "_model_module": "@jupyter-widgets/controls",
            "_model_module_version": "1.5.0",
            "_model_name": "FloatProgressModel",
            "_view_count": null,
            "_view_module": "@jupyter-widgets/controls",
            "_view_module_version": "1.5.0",
            "_view_name": "ProgressView",
            "bar_style": "success",
            "description": "",
            "description_tooltip": null,
            "layout": "IPY_MODEL_877ac6ab8bf64e99b45476fab99be125",
            "max": 8204,
            "min": 0,
            "orientation": "horizontal",
            "style": "IPY_MODEL_186817e6f567471b8a605d33130f84d9",
            "value": 8204
          }
        },
        "4c158cb320e94516b3e5740bfdd9d5f6": {
          "model_module": "@jupyter-widgets/controls",
          "model_name": "HTMLModel",
          "model_module_version": "1.5.0",
          "state": {
            "_dom_classes": [],
            "_model_module": "@jupyter-widgets/controls",
            "_model_module_version": "1.5.0",
            "_model_name": "HTMLModel",
            "_view_count": null,
            "_view_module": "@jupyter-widgets/controls",
            "_view_module_version": "1.5.0",
            "_view_name": "HTMLView",
            "description": "",
            "description_tooltip": null,
            "layout": "IPY_MODEL_49d87a8acffb464aa30446888d597f77",
            "placeholder": "​",
            "style": "IPY_MODEL_71a6f241486c48bda695c6cce2b6b447",
            "value": " 8204/8204 [02:14&lt;00:00, 128.76it/s]"
          }
        },
        "dfa9cc29d3b443fdbe284de3744e322e": {
          "model_module": "@jupyter-widgets/base",
          "model_name": "LayoutModel",
          "model_module_version": "1.2.0",
          "state": {
            "_model_module": "@jupyter-widgets/base",
            "_model_module_version": "1.2.0",
            "_model_name": "LayoutModel",
            "_view_count": null,
            "_view_module": "@jupyter-widgets/base",
            "_view_module_version": "1.2.0",
            "_view_name": "LayoutView",
            "align_content": null,
            "align_items": null,
            "align_self": null,
            "border": null,
            "bottom": null,
            "display": null,
            "flex": null,
            "flex_flow": null,
            "grid_area": null,
            "grid_auto_columns": null,
            "grid_auto_flow": null,
            "grid_auto_rows": null,
            "grid_column": null,
            "grid_gap": null,
            "grid_row": null,
            "grid_template_areas": null,
            "grid_template_columns": null,
            "grid_template_rows": null,
            "height": null,
            "justify_content": null,
            "justify_items": null,
            "left": null,
            "margin": null,
            "max_height": null,
            "max_width": null,
            "min_height": null,
            "min_width": null,
            "object_fit": null,
            "object_position": null,
            "order": null,
            "overflow": null,
            "overflow_x": null,
            "overflow_y": null,
            "padding": null,
            "right": null,
            "top": null,
            "visibility": null,
            "width": null
          }
        },
        "a777cf9e5af24ab5a3bd0cabc95b8aa0": {
          "model_module": "@jupyter-widgets/base",
          "model_name": "LayoutModel",
          "model_module_version": "1.2.0",
          "state": {
            "_model_module": "@jupyter-widgets/base",
            "_model_module_version": "1.2.0",
            "_model_name": "LayoutModel",
            "_view_count": null,
            "_view_module": "@jupyter-widgets/base",
            "_view_module_version": "1.2.0",
            "_view_name": "LayoutView",
            "align_content": null,
            "align_items": null,
            "align_self": null,
            "border": null,
            "bottom": null,
            "display": null,
            "flex": null,
            "flex_flow": null,
            "grid_area": null,
            "grid_auto_columns": null,
            "grid_auto_flow": null,
            "grid_auto_rows": null,
            "grid_column": null,
            "grid_gap": null,
            "grid_row": null,
            "grid_template_areas": null,
            "grid_template_columns": null,
            "grid_template_rows": null,
            "height": null,
            "justify_content": null,
            "justify_items": null,
            "left": null,
            "margin": null,
            "max_height": null,
            "max_width": null,
            "min_height": null,
            "min_width": null,
            "object_fit": null,
            "object_position": null,
            "order": null,
            "overflow": null,
            "overflow_x": null,
            "overflow_y": null,
            "padding": null,
            "right": null,
            "top": null,
            "visibility": null,
            "width": null
          }
        },
        "830c0dbd9d5d4561a401af00e0ca180e": {
          "model_module": "@jupyter-widgets/controls",
          "model_name": "DescriptionStyleModel",
          "model_module_version": "1.5.0",
          "state": {
            "_model_module": "@jupyter-widgets/controls",
            "_model_module_version": "1.5.0",
            "_model_name": "DescriptionStyleModel",
            "_view_count": null,
            "_view_module": "@jupyter-widgets/base",
            "_view_module_version": "1.2.0",
            "_view_name": "StyleView",
            "description_width": ""
          }
        },
        "877ac6ab8bf64e99b45476fab99be125": {
          "model_module": "@jupyter-widgets/base",
          "model_name": "LayoutModel",
          "model_module_version": "1.2.0",
          "state": {
            "_model_module": "@jupyter-widgets/base",
            "_model_module_version": "1.2.0",
            "_model_name": "LayoutModel",
            "_view_count": null,
            "_view_module": "@jupyter-widgets/base",
            "_view_module_version": "1.2.0",
            "_view_name": "LayoutView",
            "align_content": null,
            "align_items": null,
            "align_self": null,
            "border": null,
            "bottom": null,
            "display": null,
            "flex": null,
            "flex_flow": null,
            "grid_area": null,
            "grid_auto_columns": null,
            "grid_auto_flow": null,
            "grid_auto_rows": null,
            "grid_column": null,
            "grid_gap": null,
            "grid_row": null,
            "grid_template_areas": null,
            "grid_template_columns": null,
            "grid_template_rows": null,
            "height": null,
            "justify_content": null,
            "justify_items": null,
            "left": null,
            "margin": null,
            "max_height": null,
            "max_width": null,
            "min_height": null,
            "min_width": null,
            "object_fit": null,
            "object_position": null,
            "order": null,
            "overflow": null,
            "overflow_x": null,
            "overflow_y": null,
            "padding": null,
            "right": null,
            "top": null,
            "visibility": null,
            "width": null
          }
        },
        "186817e6f567471b8a605d33130f84d9": {
          "model_module": "@jupyter-widgets/controls",
          "model_name": "ProgressStyleModel",
          "model_module_version": "1.5.0",
          "state": {
            "_model_module": "@jupyter-widgets/controls",
            "_model_module_version": "1.5.0",
            "_model_name": "ProgressStyleModel",
            "_view_count": null,
            "_view_module": "@jupyter-widgets/base",
            "_view_module_version": "1.2.0",
            "_view_name": "StyleView",
            "bar_color": null,
            "description_width": ""
          }
        },
        "49d87a8acffb464aa30446888d597f77": {
          "model_module": "@jupyter-widgets/base",
          "model_name": "LayoutModel",
          "model_module_version": "1.2.0",
          "state": {
            "_model_module": "@jupyter-widgets/base",
            "_model_module_version": "1.2.0",
            "_model_name": "LayoutModel",
            "_view_count": null,
            "_view_module": "@jupyter-widgets/base",
            "_view_module_version": "1.2.0",
            "_view_name": "LayoutView",
            "align_content": null,
            "align_items": null,
            "align_self": null,
            "border": null,
            "bottom": null,
            "display": null,
            "flex": null,
            "flex_flow": null,
            "grid_area": null,
            "grid_auto_columns": null,
            "grid_auto_flow": null,
            "grid_auto_rows": null,
            "grid_column": null,
            "grid_gap": null,
            "grid_row": null,
            "grid_template_areas": null,
            "grid_template_columns": null,
            "grid_template_rows": null,
            "height": null,
            "justify_content": null,
            "justify_items": null,
            "left": null,
            "margin": null,
            "max_height": null,
            "max_width": null,
            "min_height": null,
            "min_width": null,
            "object_fit": null,
            "object_position": null,
            "order": null,
            "overflow": null,
            "overflow_x": null,
            "overflow_y": null,
            "padding": null,
            "right": null,
            "top": null,
            "visibility": null,
            "width": null
          }
        },
        "71a6f241486c48bda695c6cce2b6b447": {
          "model_module": "@jupyter-widgets/controls",
          "model_name": "DescriptionStyleModel",
          "model_module_version": "1.5.0",
          "state": {
            "_model_module": "@jupyter-widgets/controls",
            "_model_module_version": "1.5.0",
            "_model_name": "DescriptionStyleModel",
            "_view_count": null,
            "_view_module": "@jupyter-widgets/base",
            "_view_module_version": "1.2.0",
            "_view_name": "StyleView",
            "description_width": ""
          }
        }
      }
    }
  },
  "cells": [
    {
      "cell_type": "code",
      "source": [
        "import pandas as pd\n",
        "import re\n",
        "import json\n",
        "from tqdm.auto import tqdm\n",
        "from collections import Counter\n",
        "import spacy\n",
        "import nltk\n",
        "from nltk.corpus import stopwords\n",
        "from transformers import pipeline\n",
        "\n",
        "nltk.download('stopwords')\n",
        "nlp = spacy.load(\"en_core_web_sm\")\n",
        "stopwords = nltk.corpus.stopwords.words('english')\n",
        "stopwords = stopwords + ['mr', 'mrs', 'sir', 'ho', 'tion', 'presi', 'ident', 'ing',\n",
        "                        'corea', 'nation', 'country', 'government', 'man',\n",
        "                        'time', 'day', 'year', 'part',  'month', 'position', 'point',\n",
        "                        'event', 'week', 'question', 'news', 'show', 'see',  'understand',\n",
        "                        'add', 'learn', 'think', 'look', 'get', 'want',\n",
        "                        'make', 'say', 'take', 'give', 'know', 'ask','answer',\n",
        "                        'tho','con', 'sia', 'ese', 'rus', 'first', 'last', 'many',\n",
        "                         'number', 'un', 'ed', 'st', 'go', 'call', 'still', 'well',\n",
        "                         'also', 'never', 'yet', 'back', 'almost', 'ever', 'just',\n",
        "                         'thus', 'even', 'later', 'finally', 'way', 'land',\n",
        "                         'however', 'soon', 'ago', 'cessfully']\n",
        "\n",
        "classifier = pipeline(\"sentiment-analysis\", model=\"distilbert-base-uncased-finetuned-sst-2-english\")"
      ],
      "metadata": {
        "id": "Stv5KrCAambr",
        "colab": {
          "base_uri": "https://localhost:8080/"
        },
        "outputId": "291170f4-5456-49e2-8fe1-e4db6fd3fc37"
      },
      "execution_count": 65,
      "outputs": [
        {
          "output_type": "stream",
          "name": "stderr",
          "text": [
            "[nltk_data] Downloading package stopwords to /root/nltk_data...\n",
            "[nltk_data]   Package stopwords is already up-to-date!\n",
            "Device set to use cpu\n"
          ]
        }
      ]
    },
    {
      "cell_type": "markdown",
      "source": [
        "This function allows to clean text from extra punctuation, spaces and numbers."
      ],
      "metadata": {
        "id": "3veCCx6Q91iX"
      }
    },
    {
      "cell_type": "code",
      "source": [
        "def clean_text(data):\n",
        "  texts = []\n",
        "  for d in data:\n",
        "    text = d[1].replace('\\n', ' ')\n",
        "    state = d[2]\n",
        "    cleaned_text = re.sub(r'(.)\\1{2,}', '', text)\n",
        "    cleaned_text = re.sub(r'[^a-zA-Z0-9\\s.,\\'-]', '', cleaned_text)\n",
        "    cleaned_text = re.sub(r'\\s+', ' ', cleaned_text).strip()\n",
        "    texts.append([cleaned_text, state])\n",
        "  return texts"
      ],
      "metadata": {
        "id": "F5G1tJvA9o1A"
      },
      "execution_count": 86,
      "outputs": []
    },
    {
      "cell_type": "markdown",
      "source": [
        "The following function extracts NERs from previously cleaned sentenses"
      ],
      "metadata": {
        "id": "J25jSOp599xQ"
      }
    },
    {
      "cell_type": "code",
      "source": [
        "def extract_ners(texts):\n",
        "  ner_sents = []\n",
        "  ner_ents = []\n",
        "\n",
        "  for text in tqdm(texts):\n",
        "    sents = re.split('[?.!]', text[0])\n",
        "    state = text[1]\n",
        "    for sent in sents:\n",
        "      doc = nlp(sent)\n",
        "      if doc.ents:\n",
        "        entities = []\n",
        "        for e in doc.ents:\n",
        "          if e.label_ in ['PERSON', 'GPE', 'ORG', 'LOC', 'NORP']:\n",
        "            entities.append((e.text, e.label_))\n",
        "        ner_sents.append([sent, state])\n",
        "        ner_ents.append(entities)\n",
        "  return ner_sents, ner_ents"
      ],
      "metadata": {
        "id": "bCjD_iDi-CxQ"
      },
      "execution_count": 87,
      "outputs": []
    },
    {
      "cell_type": "markdown",
      "source": [
        "The following function extracts parts of speech from the sentence with corresponding NERs and counts the number of NERs of different types."
      ],
      "metadata": {
        "id": "3vtsPfl4-VNC"
      }
    },
    {
      "cell_type": "code",
      "source": [
        "def find_dependencies(ner_sents, ner_ents):\n",
        "  dependencies = {}\n",
        "  for i in tqdm(range(len(ner_sents))):\n",
        "    sent = ner_sents[i]\n",
        "    ents = ner_ents[i]\n",
        "    if 0 < len(ents) < 50:\n",
        "      for ent in ents:\n",
        "          text_ent = ent[0]\n",
        "          if sent:\n",
        "            sent_ner = sent[0].lower().strip().replace(text_ent, '')\n",
        "            text_ent = text_ent.lower()\n",
        "          if text_ent in dependencies:\n",
        "            dependencies[text_ent]['counter'] += 1\n",
        "          else:\n",
        "            dependencies[text_ent] = {'counter': 1,\n",
        "                                      'type': ent[1],\n",
        "                                      'dependencies': {'nouns': [],\n",
        "                                                      'verbs': [],\n",
        "                                                      'adjectives': [],\n",
        "                                                      'adverbs': [],\n",
        "                                                      'propnouns': []}}\n",
        "          if sent_ner:\n",
        "            doc = nlp(sent_ner)\n",
        "            for d in doc:\n",
        "              text_d = d.lemma_.lower()\n",
        "              pos_d = d.pos_\n",
        "              if pos_d == 'NOUN':\n",
        "                  dependencies[text_ent]['dependencies']['nouns'].append(text_d)\n",
        "              if pos_d == 'VERB':\n",
        "                dependencies[text_ent]['dependencies']['verbs'].append(text_d)\n",
        "              if pos_d == 'PROPN':\n",
        "                dependencies[text_ent]['dependencies']['propnouns'].append(text_d)\n",
        "              if pos_d == 'ADJ':\n",
        "                dependencies[text_ent]['dependencies']['adjectives'].append(text_d)\n",
        "              if pos_d == 'ADV':\n",
        "                dependencies[text_ent]['dependencies']['adverbs'].append(text_d)\n",
        "  return dependencies"
      ],
      "metadata": {
        "id": "b6s8ctcO-QCD"
      },
      "execution_count": 88,
      "outputs": []
    },
    {
      "cell_type": "markdown",
      "source": [
        "The following function creates a Counter for lists of different types of speech."
      ],
      "metadata": {
        "id": "J2NQGCUE-mpW"
      }
    },
    {
      "cell_type": "code",
      "source": [
        "def sort_pos(data, word, pos_tag, stopwords):\n",
        "  pos = Counter(data[pos_tag])\n",
        "  pos = [(n, pos[n]) for n in pos if pos[n] > 3 and n != word]\n",
        "  pos = [n for n in pos if n[0] not in stopwords and len(n[0]) > 1]\n",
        "  pos_final = sorted(pos, key=lambda x: x[1], reverse=True)\n",
        "  return pos_final"
      ],
      "metadata": {
        "id": "8qZ8qSNVcOhX"
      },
      "execution_count": 89,
      "outputs": []
    },
    {
      "cell_type": "markdown",
      "source": [
        "The following function sorts dicts of NERs in descending order and filters the lists of exttracted parts of speech."
      ],
      "metadata": {
        "id": "JWvO0U8pzcjS"
      }
    },
    {
      "cell_type": "code",
      "source": [
        "def get_count(deps, stopwords):\n",
        "  dependencies = []\n",
        "  for d in deps:\n",
        "    dependencies.append((d, deps[d]['counter'], deps[d]['type'], deps[d]['dependencies']))\n",
        "  filtered_dependencies_desc = sorted(dependencies, key=lambda x: x[1], reverse=True)\n",
        "\n",
        "  people = []\n",
        "  gpe = []\n",
        "  locations = []\n",
        "  organisations = []\n",
        "  norps = []\n",
        "\n",
        "  for s in filtered_dependencies_desc:\n",
        "    if s[1] > 20 and s[0] not in stopwords:\n",
        "      pos_type = s[2]\n",
        "      nouns_final = sort_pos(s[3], s[0], 'nouns', stopwords)\n",
        "      verbs_final = sort_pos(s[3], s[0], 'verbs', stopwords)\n",
        "      propnouns_final = sort_pos(s[3], s[0], 'propnouns', stopwords)\n",
        "      adjectives_final = sort_pos(s[3], s[0], 'adjectives', stopwords)\n",
        "      adverbs_final = sort_pos(s[3], s[0], 'adverbs', stopwords)\n",
        "      if pos_type == 'LOC':\n",
        "        locations.append((s[0], s[1], nouns_final, verbs_final, propnouns_final,\n",
        "                          adjectives_final, adverbs_final))\n",
        "      if pos_type == 'GPE':\n",
        "        gpe.append((s[0], s[1], nouns_final, verbs_final, propnouns_final,\n",
        "                          adjectives_final, adverbs_final))\n",
        "      if pos_type == 'PERSON':\n",
        "        people.append((s[0], s[1], nouns_final[:20], nouns_final, verbs_final, propnouns_final,\n",
        "                          adjectives_final, adverbs_final))\n",
        "      if pos_type == 'ORG':\n",
        "        organisations.append((s[0], s[1], nouns_final, verbs_final, propnouns_final,\n",
        "                          adjectives_final, adverbs_final))\n",
        "      if pos_type == 'NORP':\n",
        "        norps.append((s[0], s[1], nouns_final, verbs_final, propnouns_final,\n",
        "                          adjectives_final, adverbs_final))\n",
        "  return people, gpe, locations, organisations,norps"
      ],
      "metadata": {
        "id": "dgI-IlyU-onu"
      },
      "execution_count": 90,
      "outputs": []
    },
    {
      "cell_type": "markdown",
      "source": [
        "The following function classifies sentiments of sentences containing occurences of Japan and Russia and counts them."
      ],
      "metadata": {
        "id": "Uf8zWkIo0fP5"
      }
    },
    {
      "cell_type": "code",
      "source": [
        "def get_sentiments(clean_texts):\n",
        "  japan_stats = {'positive': 0,\n",
        "                        'negative': 0}\n",
        "  russia_stats = {'positive': 0,\n",
        "                        'negative': 0}\n",
        "  for text in tqdm(clean_texts):\n",
        "    sents = re.split('[?.!]', text[0])\n",
        "    for s in sents:\n",
        "      if len(s) < 500:\n",
        "        if 'Japan' in s and 'Russia' not in s:\n",
        "          tag = classifier(s)[0]['label']\n",
        "          if tag == 'NEGATIVE':\n",
        "            japan_stats['negative'] += 1\n",
        "          if tag == 'POSITIVE':\n",
        "            japan_stats['positive'] += 1\n",
        "        if 'Russia' in s and 'Japan' not in s:\n",
        "          tag = classifier(s)[0]['label']\n",
        "          if tag == 'NEGATIVE':\n",
        "            russia_stats['negative'] += 1\n",
        "          if tag == 'POSITIVE':\n",
        "            russia_stats['positive'] += 1\n",
        "  return japan_stats, russia_stats"
      ],
      "metadata": {
        "id": "C1CK74dV-qRV"
      },
      "execution_count": 91,
      "outputs": []
    },
    {
      "cell_type": "markdown",
      "source": [
        "Here is a sample of working code on material of first 50 newspapers, published in january of 1904"
      ],
      "metadata": {
        "id": "BhZU_BW3-wzh"
      }
    },
    {
      "cell_type": "code",
      "source": [
        "with open('sample.json', 'r', encoding='utf-8') as json_file:\n",
        "    sample = json.load(json_file)"
      ],
      "metadata": {
        "id": "4-VpBie2xpod"
      },
      "execution_count": 92,
      "outputs": []
    },
    {
      "cell_type": "code",
      "source": [
        "clean_text = clean_text(sample)\n",
        "ner_sents, ner_ents = extract_ners(clean_text)\n",
        "sentiments = get_sentiments(clean_text)\n",
        "dependencies = find_dependencies(ner_sents, ner_ents)\n",
        "final_data_sample = get_count(dependencies, stopwords)"
      ],
      "metadata": {
        "id": "gZH3lxCJ-wUu",
        "colab": {
          "base_uri": "https://localhost:8080/",
          "height": 113,
          "referenced_widgets": [
            "38c28d6f6b694327b39dc8ed46a13bc4",
            "dcb35f37bbf048d0ac900a904baf6e33",
            "87fefbdf1573410f8ddcc69897175e8e",
            "3c4cad40512549cda86865cca80c985d",
            "272fcdab6f1b4bec8ff9dcfcafb19471",
            "bb1e3d567dca40eb8304e4c6f527b7ec",
            "dd5e2fb144c74050b71f62c513b4a24e",
            "2aac725ac14e4658b45fac1fbd312cf8",
            "f8d4ceece15149a98a69498bd133bc27",
            "a6925293d0d948b784d832c43c299c6a",
            "895c8732b27f4b30bf2092f84b65552e",
            "22d316a7513149a6b8baa015b2af6ff2",
            "0e6764261d2f4e18a93ac5c15ca1072d",
            "d6d044e58b7248c7aca05d9ae2b5d52e",
            "b650303d5a4c4974aadeeb1f60bf718e",
            "8ec252a95d3d464bbf8f44d14d5877fd",
            "8e8755e23e4b42d28b23691b8b2f2756",
            "417a51b3045e40abb50b7b6988332903",
            "88f1d2c47af34e6ab8106c8aaab91e9e",
            "662cd408d2f84be3b81e64d731b32fab",
            "5fcc5423e19f44b8bf32067b860b29fa",
            "017d0907552c4ec680adb52650babef5",
            "2337f29ed81a48688c85e23e5cb3f840",
            "741cc48508374efa923915ec806aec2d",
            "75303b64f7d34ea5ba3431aead4e883f",
            "4c158cb320e94516b3e5740bfdd9d5f6",
            "dfa9cc29d3b443fdbe284de3744e322e",
            "a777cf9e5af24ab5a3bd0cabc95b8aa0",
            "830c0dbd9d5d4561a401af00e0ca180e",
            "877ac6ab8bf64e99b45476fab99be125",
            "186817e6f567471b8a605d33130f84d9",
            "49d87a8acffb464aa30446888d597f77",
            "71a6f241486c48bda695c6cce2b6b447"
          ]
        },
        "outputId": "5597891c-fcbd-457f-826c-4d53c077364c"
      },
      "execution_count": 93,
      "outputs": [
        {
          "output_type": "display_data",
          "data": {
            "text/plain": [
              "  0%|          | 0/50 [00:00<?, ?it/s]"
            ],
            "application/vnd.jupyter.widget-view+json": {
              "version_major": 2,
              "version_minor": 0,
              "model_id": "38c28d6f6b694327b39dc8ed46a13bc4"
            }
          },
          "metadata": {}
        },
        {
          "output_type": "display_data",
          "data": {
            "text/plain": [
              "  0%|          | 0/50 [00:00<?, ?it/s]"
            ],
            "application/vnd.jupyter.widget-view+json": {
              "version_major": 2,
              "version_minor": 0,
              "model_id": "22d316a7513149a6b8baa015b2af6ff2"
            }
          },
          "metadata": {}
        },
        {
          "output_type": "display_data",
          "data": {
            "text/plain": [
              "  0%|          | 0/8204 [00:00<?, ?it/s]"
            ],
            "application/vnd.jupyter.widget-view+json": {
              "version_major": 2,
              "version_minor": 0,
              "model_id": "2337f29ed81a48688c85e23e5cb3f840"
            }
          },
          "metadata": {}
        }
      ]
    },
    {
      "cell_type": "code",
      "source": [
        "japan_sent = sentiments[0]\n",
        "japan_sent"
      ],
      "metadata": {
        "id": "oM5CrUoNW2yl",
        "colab": {
          "base_uri": "https://localhost:8080/"
        },
        "outputId": "bed45593-5fda-44b4-a1b6-230f7cc8c168"
      },
      "execution_count": 94,
      "outputs": [
        {
          "output_type": "execute_result",
          "data": {
            "text/plain": [
              "{'positive': 357, 'negative': 484}"
            ]
          },
          "metadata": {},
          "execution_count": 94
        }
      ]
    },
    {
      "cell_type": "code",
      "source": [
        "russia_sent = sentiments[1]\n",
        "russia_sent"
      ],
      "metadata": {
        "id": "__au1vd-aCkt",
        "colab": {
          "base_uri": "https://localhost:8080/"
        },
        "outputId": "74872b2d-779d-4aa2-8806-e0eed0730fc5"
      },
      "execution_count": 95,
      "outputs": [
        {
          "output_type": "execute_result",
          "data": {
            "text/plain": [
              "{'positive': 152, 'negative': 287}"
            ]
          },
          "metadata": {},
          "execution_count": 95
        }
      ]
    },
    {
      "cell_type": "markdown",
      "source": [
        "These are the examples of the final data: word, word frequency, most frequent nouns, verbs, proper nouns, adjectives and adverbs."
      ],
      "metadata": {
        "id": "E7VaoKZF9cCy"
      }
    },
    {
      "cell_type": "code",
      "source": [
        "result_1 = final_data_sample[1]"
      ],
      "metadata": {
        "collapsed": true,
        "id": "gO8MeW9XXi7O"
      },
      "execution_count": 96,
      "outputs": []
    },
    {
      "cell_type": "code",
      "source": [
        "word = result_1[0][0]\n",
        "word"
      ],
      "metadata": {
        "id": "vIQUUtuyaIsd",
        "colab": {
          "base_uri": "https://localhost:8080/",
          "height": 36
        },
        "outputId": "ee7df355-5299-4c50-bac9-211ff55a545a"
      },
      "execution_count": 97,
      "outputs": [
        {
          "output_type": "execute_result",
          "data": {
            "text/plain": [
              "'japan'"
            ],
            "application/vnd.google.colaboratory.intrinsic+json": {
              "type": "string"
            }
          },
          "metadata": {},
          "execution_count": 97
        }
      ]
    },
    {
      "cell_type": "code",
      "source": [
        "count = result_1[0][1]\n",
        "count"
      ],
      "metadata": {
        "id": "j40gbXLCkuL6",
        "colab": {
          "base_uri": "https://localhost:8080/"
        },
        "outputId": "ec678d5a-bb8a-47a5-dbd5-ffda5d3e0c2e"
      },
      "execution_count": 98,
      "outputs": [
        {
          "output_type": "execute_result",
          "data": {
            "text/plain": [
              "1083"
            ]
          },
          "metadata": {},
          "execution_count": 98
        }
      ]
    },
    {
      "cell_type": "code",
      "source": [
        "nouns = result_1[0][2][:20]\n",
        "nouns"
      ],
      "metadata": {
        "id": "OR9gkJiNkwUS",
        "colab": {
          "base_uri": "https://localhost:8080/"
        },
        "outputId": "b5565287-8537-4cd8-9218-73bb62f8033f"
      },
      "execution_count": 99,
      "outputs": [
        {
          "output_type": "execute_result",
          "data": {
            "text/plain": [
              "[('war', 122),\n",
              " ('right', 85),\n",
              " ('interest', 64),\n",
              " ('ship', 54),\n",
              " ('reply', 52),\n",
              " ('treaty', 43),\n",
              " ('power', 39),\n",
              " ('port', 39),\n",
              " ('negotiation', 37),\n",
              " ('sea', 36),\n",
              " ('concession', 30),\n",
              " ('proposal', 30),\n",
              " ('independence', 28),\n",
              " ('army', 28),\n",
              " ('commerce', 28),\n",
              " ('conflict', 26),\n",
              " ('peace', 26),\n",
              " ('cruiser', 26),\n",
              " ('condition', 25),\n",
              " ('troop', 24)]"
            ]
          },
          "metadata": {},
          "execution_count": 99
        }
      ]
    },
    {
      "cell_type": "code",
      "source": [
        "verbs = result_1[0][3][:20]\n",
        "verbs"
      ],
      "metadata": {
        "id": "vDsjKrUDk5jP",
        "colab": {
          "base_uri": "https://localhost:8080/"
        },
        "outputId": "4f6703a2-3635-4b58-c9f3-7090465622f4"
      },
      "execution_count": 100,
      "outputs": [
        {
          "output_type": "execute_result",
          "data": {
            "text/plain": [
              "[('recognize', 43),\n",
              " ('accept', 32),\n",
              " ('send', 31),\n",
              " ('receive', 31),\n",
              " ('leave', 26),\n",
              " ('reach', 25),\n",
              " ('force', 24),\n",
              " ('regard', 24),\n",
              " ('accord', 23),\n",
              " ('remain', 22),\n",
              " ('follow', 20),\n",
              " ('fight', 19),\n",
              " ('prevent', 19),\n",
              " ('acquire', 19),\n",
              " ('begin', 17),\n",
              " ('lead', 17),\n",
              " ('refuse', 16),\n",
              " ('come', 16),\n",
              " ('hold', 16),\n",
              " ('become', 16)]"
            ]
          },
          "metadata": {},
          "execution_count": 100
        }
      ]
    },
    {
      "cell_type": "code",
      "source": [
        "propnouns = result_1[0][4][:20]\n",
        "propnouns"
      ],
      "metadata": {
        "id": "BiH-5N9Ak-Ao",
        "colab": {
          "base_uri": "https://localhost:8080/"
        },
        "outputId": "658c6f58-2fe9-484c-e33e-a5b2a9b49151"
      },
      "execution_count": 101,
      "outputs": [
        {
          "output_type": "execute_result",
          "data": {
            "text/plain": [
              "[('russia', 454),\n",
              " ('korea', 134),\n",
              " ('china', 118),\n",
              " ('manchuria', 92),\n",
              " ('united', 61),\n",
              " ('states', 59),\n",
              " ('britain', 35),\n",
              " ('japanese', 24),\n",
              " ('baron', 22),\n",
              " ('churia', 14),\n",
              " ('minister', 14),\n",
              " ('france', 13),\n",
              " ('seoul', 12),\n",
              " ('east', 12),\n",
              " ('germany', 12),\n",
              " ('october', 11),\n",
              " ('de', 10),\n",
              " ('arthur', 10),\n",
              " ('london', 10),\n",
              " ('niuchwang', 9)]"
            ]
          },
          "metadata": {},
          "execution_count": 101
        }
      ]
    },
    {
      "cell_type": "code",
      "source": [
        "adjectives = result_1[0][5][:20]\n",
        "adjectives"
      ],
      "metadata": {
        "id": "LDPkjRJllw2r",
        "colab": {
          "base_uri": "https://localhost:8080/"
        },
        "outputId": "d898b191-56cf-42df-d7dd-5e6d401d0f12"
      },
      "execution_count": 102,
      "outputs": [
        {
          "output_type": "execute_result",
          "data": {
            "text/plain": [
              "[('russian', 101),\n",
              " ('japanese', 94),\n",
              " ('great', 75),\n",
              " ('commercial', 44),\n",
              " ('good', 32),\n",
              " ('special', 31),\n",
              " ('high', 27),\n",
              " ('naval', 25),\n",
              " ('little', 21),\n",
              " ('new', 20),\n",
              " ('willing', 19),\n",
              " ('third', 19),\n",
              " ('neutral', 18),\n",
              " ('foreign', 18),\n",
              " ('present', 17),\n",
              " ('certain', 17),\n",
              " ('territorial', 17),\n",
              " ('eastern', 16),\n",
              " ('considerable', 16),\n",
              " ('definite', 16)]"
            ]
          },
          "metadata": {},
          "execution_count": 102
        }
      ]
    },
    {
      "cell_type": "code",
      "source": [
        "adverbs = result_1[0][6][:20]\n",
        "adverbs"
      ],
      "metadata": {
        "id": "CQIRjyljIknt",
        "colab": {
          "base_uri": "https://localhost:8080/"
        },
        "outputId": "dd05ef19-24f0-45e8-a08e-ba4878bd4132"
      },
      "execution_count": 103,
      "outputs": [
        {
          "output_type": "execute_result",
          "data": {
            "text/plain": [
              "[('far', 39),\n",
              " ('alone', 15),\n",
              " ('immediately', 13),\n",
              " ('mutually', 13),\n",
              " ('reciprocally', 10),\n",
              " ('officially', 10),\n",
              " ('practically', 9),\n",
              " ('probably', 9),\n",
              " ('subsequently', 8),\n",
              " ('nearly', 7),\n",
              " ('possibly', 7),\n",
              " ('long', 7),\n",
              " ('fully', 6),\n",
              " ('merely', 6),\n",
              " ('highly', 6),\n",
              " ('symmetrically', 5),\n",
              " ('fairly', 5),\n",
              " ('rather', 5),\n",
              " ('simultaneously', 5),\n",
              " ('thereby', 5)]"
            ]
          },
          "metadata": {},
          "execution_count": 103
        }
      ]
    }
  ]
}